{
 "cells": [
  {
   "cell_type": "markdown",
   "metadata": {},
   "source": [
    "# Canny Edge detector\n",
    "\n",
    "Some notes on the topic of the exercise <br><br>\n",
    "\n",
    "\n",
    "Link to the videos related to the exercise <br>\n",
    "\n"
   ]
  },
  {
   "cell_type": "markdown",
   "metadata": {},
   "source": [
    "### Task 1\n",
    "<br>\n",
    "Write the Canny edge detector function in the cell below. \n",
    "\n",
    "Do not change the name of the function.\n"
   ]
  },
  {
   "cell_type": "code",
   "execution_count": null,
   "metadata": {},
   "outputs": [],
   "source": [
    "#\n",
    "#   import libraries\n",
    "#\n"
   ]
  },
  {
   "cell_type": "code",
   "execution_count": null,
   "metadata": {},
   "outputs": [],
   "source": [
    "#\n",
    "#   Canny edge function the student needs to write\n",
    "# \n",
    "\n",
    "#\n",
    "# WARING: Do not change the name of the function\n",
    "#\n",
    "# You can define all the other functions you need\n",
    "#\n",
    "\n",
    "\n",
    "def BackwardController(d, phi):\n",
    "    return -1\n",
    "    "
   ]
  }
 ],
 "metadata": {
  "language_info": {
   "codemirror_mode": {
    "name": "ipython",
    "version": 3
   },
   "file_extension": ".py",
   "mimetype": "text/x-python",
   "name": "python",
   "nbconvert_exporter": "python",
   "pygments_lexer": "ipython3",
   "version": 3
  },
  "orig_nbformat": 2
 },
 "nbformat": 4,
 "nbformat_minor": 2
}