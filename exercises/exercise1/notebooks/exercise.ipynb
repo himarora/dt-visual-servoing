{
 "cells": [
  {
   "cell_type": "markdown",
   "metadata": {},
   "source": [
    "# Canny Edge detector\n",
    "\n",
    "Some notes on the topic of the exercise <br><br>\n",
    "\n",
    "\n",
    "Link to the videos related to the exercise <br>\n",
    "\n"
   ]
  },
  {
   "cell_type": "markdown",
   "metadata": {},
   "source": [
    "### Task 1\n",
    "<br>\n",
    "Write the Canny edge detector function in the cell below. \n",
    "\n",
    "Do not change the name of the function.\n"
   ]
  },
  {
   "cell_type": "code",
   "execution_count": null,
   "metadata": {},
   "outputs": [],
   "source": [
    "#\n",
    "#   import libraries\n",
    "#\n",
    "\n",
    "import cv2"
   ]
  },
  {
   "cell_type": "code",
   "execution_count": null,
   "metadata": {},
   "outputs": [],
   "source": [
    "#\n",
    "#   Canny edge function the student needs to write\n",
    "# \n",
    "\n",
    "#\n",
    "# WARING: Do not change the name of the function\n",
    "#\n",
    "# You can define all the other functions you need\n",
    "#\n",
    "\n",
    "\n",
    "\n",
    "def CannyF(input_image):\n",
    "    # this function has to return a b/w image \n",
    "    # the image is a bgr image ...\n",
    "    # some other instructions ...\n",
    "    \n",
    "    lowThreshold=75\n",
    "    highThreshold=150\n",
    "    return cv2.Canny(input_image, lowThreshold, highThreshold)\n",
    "\n",
    "\n",
    "    "
   ]
  }
 ],
 "metadata": {
  "language_info": {
   "codemirror_mode": {
    "name": "ipython",
    "version": 3
   },
   "file_extension": ".py",
   "mimetype": "text/x-python",
   "name": "python",
   "nbconvert_exporter": "python",
   "pygments_lexer": "ipython3",
   "version": 3
  },
  "orig_nbformat": 2
 },
 "nbformat": 4,
 "nbformat_minor": 2
}