{
  "nbformat": 4,
  "nbformat_minor": 0,
  "metadata": {
    "colab": {
      "name": "dt-ob-det.ipynb",
      "provenance": [],
      "collapsed_sections": []
    },
    "kernelspec": {
      "name": "python3",
      "display_name": "Python 3"
    }
  },
  "cells": [
    {
      "cell_type": "code",
      "metadata": {
        "id": "Lu1Y8D2jINNm"
      },
      "source": [
        "from google.colab import drive\n",
        "drive.mount('/content/drive')\n",
        "import os\n",
        "os.chdir(\"/content/drive/My Drive/dt-object-detection-exercise\")  #change folder name accordingly\n",
        "print(os.getcwd())\n",
        "print(os.listdir())\n",
        "\n",
        "with open(\"./test.txt\", \"w\") as f:  # verify that you did get a new file in your Drive\n",
        "  f.write(\"Hello, world!\")"
      ],
      "execution_count": null,
      "outputs": []
    },
    {
      "cell_type": "code",
      "metadata": {
        "id": "GCAoeXRIJaGV"
      },
      "source": [
        "import train\n",
        "train.main()"
      ],
      "execution_count": null,
      "outputs": []
    }
  ]
}