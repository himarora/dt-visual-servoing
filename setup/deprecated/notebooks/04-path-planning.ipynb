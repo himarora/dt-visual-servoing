{
 "cells": [
  {
   "cell_type": "markdown",
   "metadata": {},
   "source": [
    "# Path Planning\n",
    "\n",
    "Planning is a crucial part of the autonomous driving pipeline. The subfield of planning corresponds to higher-level reasoning, where as last week's topic - control - focuses more on the specifics of how to move accurately. Planners come in many forms, but here, we're concerned with _motion planning_, or the task of moving from point A to B while avoiding collision with known obstacles. For simplicity, we will focusing on planning in a two-dimensional workspace, although many of the algorithms we see here can easily be extended to higher-dimensional spaces. \n",
    "\n",
    "In this exercise, you will complete the implementation of a popular robotic motion planning algorithm: Rapidly-Exploring Random Trees, or RRT for short. The successful completion of this algorithm will allow your simulated Duckiebot to go from your current position to a goal position in a road with obstacles. \n",
    "\n",
    "First, run this code to initialize the environment:"
   ]
  },
  {
   "cell_type": "code",
   "execution_count": null,
   "metadata": {},
   "outputs": [],
   "source": [
    "#%matplotlib \n",
    "#from matplotlib import use\n",
    "#use('TkAgg')\n",
    "import logging\n",
    "logger = logging.getLogger(\"gym-duckietown\")\n",
    "logger.disabled = True\n",
    "\n",
    "import os, sys\n",
    "import math\n",
    "module_path = os.path.abspath(os.path.join('..'))\n",
    "if module_path not in sys.path:\n",
    "    sys.path.append(module_path)\n",
    "    \n",
    "from utils.helpers import launch_env, wrap_env, view_results_ipython, change_exercise, force_done, topViewSimulator, load_env_obstacles, proportional_next_point_controller, get_dist_to_goal\n",
    "from simulation.gym_duckietown.wrappers import DiscreteWrapper, UndistortWrapper, SteeringToWheelVelWrapper\n",
    "from simulation.gym_duckietown.simulator import Simulator\n",
    "import matplotlib.pyplot as plt\n",
    "import numpy as np\n",
    "from pprint import pprint"
   ]
  },
  {
   "cell_type": "code",
   "execution_count": null,
   "metadata": {},
   "outputs": [],
   "source": [
    "local_env = topViewSimulator()\n",
    "local_env = launch_env(simclass = topViewSimulator, map_name =\"loop_obstacles\")\n",
    "local_env = wrap_env(local_env)\n",
    "local_env = SteeringToWheelVelWrapper(local_env)\n",
    "_ = local_env.reset()\n",
    "\n",
    "print(\"Environment initialized.\")"
   ]
  },
  {
   "cell_type": "markdown",
   "metadata": {},
   "source": [
    "You can view of the environment your Duckiebot will go through. Apart from the loop, you should see some cones, a couple of lost Duckies and another Duckiebot on the road!"
   ]
  },
  {
   "cell_type": "code",
   "execution_count": null,
   "metadata": {},
   "outputs": [],
   "source": [
    "plt.figure(0, figsize = [15,21])\n",
    "obs, _, d, _ = local_env.step([0, 0])\n",
    "plt.imshow(obs, cmap='gray')\n",
    "plt.show()"
   ]
  },
  {
   "cell_type": "markdown",
   "metadata": {},
   "source": [
    "As we are working on path planning, we will make use of certain ground truth values that we can get from the simulator: the list of obstacles and the goal position.\n",
    "\n",
    "For simplicity, the obstacles in this exercise are stationary and are modelled as circular. Their information, stored inside of `list_obstacles`, is a list containing each obstacle's parameters: `[x, y, diameter]`. \n",
    "\n",
    "Undrivable tiles are also represented by circular obstacles, helping us ensure that the Duckiebot can only drive on the road."
   ]
  },
  {
   "cell_type": "code",
   "execution_count": null,
   "metadata": {},
   "outputs": [],
   "source": [
    "# Goal position\n",
    "goal = [1,1]\n",
    "\n",
    "# List of obstacles\n",
    "list_obstacles = load_env_obstacles(local_env)\n",
    "print('\\n'.join('[{:f}, {:f}, {:f}]'.format(*obstacle) for obstacle in list_obstacles))"
   ]
  },
  {
   "cell_type": "markdown",
   "metadata": {},
   "source": [
    "## Part 1. RRT\n",
    "\n",
    "The following function allows you to build a path from your current position to the goal position while avoiding obstacles. The path is a list of x-y positions going backwards from the end goal to the start position. The planner uses the RRT (Rapidly Exploring Random Trees) algorithm that you have seen in class.\n",
    "\n",
    "In this function, the `RRT_planner` class is called from your file `notebooks/code/exercise_03_path_planning/RRT.py`."
   ]
  },
  {
   "cell_type": "code",
   "execution_count": null,
   "metadata": {
    "scrolled": true
   },
   "outputs": [],
   "source": [
    "from notebooks.code.exercise_04_path_planning.RRT import RRT_planner\n",
    "from IPython.display import clear_output\n",
    "\n",
    "def make_plan(env, clear = False):\n",
    "    ### Problem parameters\n",
    "    # Start position\n",
    "    start = env.cur_pos[0], env.cur_pos[2]\n",
    "    # Area of exploration [x_min, x_max, y_min, y_max]\n",
    "    rand_area = [0, 4.5, 0, 4.5]\n",
    "    # No animation because we will call it many times in a row\n",
    "    show_anim = False\n",
    "    plt.figure(1)\n",
    "    \n",
    "    ### RRT Parameters\n",
    "    # Distance of each step\n",
    "    max_branch_length = 0.3\n",
    "    # Resolution of the path (at which obstacles are checked)\n",
    "    path_res = 0.1\n",
    "    # Goal sampling rate : probability to artificially sample the goal\n",
    "    goal_sample_rate=5\n",
    "    # Max number of iterations\n",
    "    max_iter = 10000\n",
    "    \n",
    "    ### Initializing and running the planner\n",
    "    rrt_planner = RRT_planner(start, goal, list_obstacles, rand_area, max_branch_length, path_res, goal_sample_rate, max_iter)\n",
    "    path = rrt_planner.plan(show_anim=show_anim)\n",
    "\n",
    "    ### Finalization\n",
    "    if path is None:\n",
    "        print(\"Cannot find path.\")\n",
    "    else:\n",
    "        print(\"Found path!\")\n",
    "        if True:\n",
    "            if clear: clear_output()\n",
    "            rrt_planner.draw_graph(final_path = path)\n",
    "    return path"
   ]
  },
  {
   "cell_type": "markdown",
   "metadata": {},
   "source": [
    "The control function, `proportional_next_point_controller`, will make the Duckiebot go to the next point of the path in two steps using a very basic proportional control: first, your robot turns towards the goal point, then, it moves straight towards it. While more complicated controllers can be implemented here, we will use the simple one described for demonstration purposes."
   ]
  },
  {
   "cell_type": "markdown",
   "metadata": {},
   "source": [
    "Finally, we're ready to go! Let's alternate both planning and driving until you reach the goal."
   ]
  },
  {
   "cell_type": "code",
   "execution_count": null,
   "metadata": {},
   "outputs": [],
   "source": [
    "from IPython.display import clear_output\n",
    "\n",
    "dist_to_goal =  get_dist_to_goal(local_env.cur_pos, goal)\n",
    "done = False\n",
    "\n",
    "while dist_to_goal > 0.3 and not done:\n",
    "    my_path = make_plan(local_env, clear = True)\n",
    "    if my_path is None:\n",
    "        break\n",
    "    done = proportional_next_point_controller(local_env, my_path)\n",
    "    dist_to_goal =  get_dist_to_goal(local_env.cur_pos, goal)"
   ]
  },
  {
   "cell_type": "markdown",
   "metadata": {},
   "source": [
    "After running the code above, you'll see that your output will be `Cannot find path!`, which is because the RRT planner is incomplete.\n",
    "\n",
    "**Task 1:** Finish implementing the `plan()` function of the `RRT_planner` class, which lives in `notebooks/code/exercise_04_path_planning/RRT.py` (l. 55 to 62)\n",
    "\n",
    "Once you are done and the code above works (don't forget to run again the definition of `make_plan()` to enact your modifications), you can see what is happening here:"
   ]
  },
  {
   "cell_type": "code",
   "execution_count": null,
   "metadata": {},
   "outputs": [],
   "source": [
    "local_env.close()\n",
    "view_results_ipython(local_env)"
   ]
  },
  {
   "cell_type": "markdown",
   "metadata": {},
   "source": [
    "*What would happen if the Duckiebot was placed in an environment with very small obstacles? Would RRT be able to avoid them? Which parameters would you need to adjust, and what would be the side effects?*\n",
    "\n",
    "Put your answers inside of the zip file, in section 1 of a file named **04-path-planning.txt**. \n",
    "\n",
    "In section 2 of this file, answer the following question:\n",
    "\n",
    "*Is it needed to re-plan everytime the first path point is reached? In which situation would it be important? What are the advantages and disadvantages of doing so?*\n",
    "\n",
    "\n",
    "## Part 2. Following a path\n",
    "\n",
    "**Task 2**\n",
    "In certain, static environments, instead of replanning at every node, we can follow the entirety of the first created path. Complete function `next_action()` of the `RTT_Path_Follower` class found in `notebooks/code/exercise_04_path_planning/RRT.py` so that it outputs the right commands to reach the goal following the path.\n"
   ]
  },
  {
   "cell_type": "code",
   "execution_count": null,
   "metadata": {},
   "outputs": [],
   "source": [
    "from notebooks.code.exercise_04_path_planning.RRT import RTT_Path_Follower\n",
    "\n",
    "new_env = topViewSimulator()\n",
    "new_env = launch_env(simclass = topViewSimulator, map_name =\"loop_obstacles\")\n",
    "new_env = wrap_env(new_env)\n",
    "new_env = SteeringToWheelVelWrapper(new_env)\n",
    "new_env.reset()\n",
    "\n",
    "goal = [1, 1]\n",
    "\n",
    "dist_to_goal =  get_dist_to_goal(new_env.cur_pos, goal)\n",
    "my_path = make_plan(new_env)\n",
    "\n",
    "path_follower = RTT_Path_Follower(my_path, new_env)\n",
    "\n",
    "while dist_to_goal > 0.3:\n",
    "    if my_path is None:\n",
    "        break\n",
    "    v, omega = path_follower.next_action()\n",
    "    obs, _, d, _ = new_env.step([v, omega])\n",
    "    if d:\n",
    "        print(\"Crash\")\n",
    "        break\n",
    "    dist_to_goal =  get_dist_to_goal(new_env.cur_pos, goal)\n"
   ]
  },
  {
   "cell_type": "markdown",
   "metadata": {},
   "source": [
    "Once you are done and the code above works (don't forget to run again the definition of `make_plan()` to enact your modifications), you can see what is happening here:"
   ]
  },
  {
   "cell_type": "code",
   "execution_count": null,
   "metadata": {},
   "outputs": [],
   "source": [
    "new_env.close()\n",
    "view_results_ipython(new_env)"
   ]
  },
  {
   "cell_type": "markdown",
   "metadata": {},
   "source": [
    "\n",
    "Whithin section 3 of **04-path-planning.txt**, answer the following question:\n",
    "\n",
    "*While this algorithm works, it can definitely be improved in safety, computation efficiency and time to reach the objective. Describe one improvement that could be implemented for each of these aspects.*\n",
    "\n",
    "Don't forget to add the file **RRT.py** to your submission!\n",
    "\n",
    "\n",
    "## Bonus\n",
    "\n",
    "If you want to implement one of these improvements, you can do so in the following by submitting an **RRT_bonus.py** file that includes the improved planner and path follower (you can start with a copy paste of the RRT.py file). \n",
    "Implement your demonstration here:"
   ]
  },
  {
   "cell_type": "code",
   "execution_count": null,
   "metadata": {},
   "outputs": [],
   "source": [
    "from notebooks.code.exercise_04_path_planning.RRT_bonus import RRT_planner, RTT_Path_Follower\n",
    "\n",
    "bonus_env = topViewSimulator()\n",
    "bonus_env = launch_env(simclass = topViewSimulator, map_name =\"loop_obstacles\")\n",
    "bonus_env = wrap_env(bonus_env)\n",
    "bonus_env = SteeringToWheelVelWrapper(bonus_env)\n",
    "bonus_env.reset()\n",
    "\n",
    "goal = [1, 1]\n",
    "\n",
    "####\n",
    "#\n",
    "#   Your demonstration here\n",
    "#\n",
    "####"
   ]
  },
  {
   "cell_type": "markdown",
   "metadata": {},
   "source": [
    "See what is happening here:"
   ]
  },
  {
   "cell_type": "code",
   "execution_count": null,
   "metadata": {},
   "outputs": [],
   "source": [
    "bonus_env.close()\n",
    "view_results_ipython(bonus_env)"
   ]
  },
  {
   "cell_type": "markdown",
   "metadata": {},
   "source": [
    "Don't forget to submit a detailed description of the improvement you made in section Bonus of **04-path-planning.txt**, and to include the code you used in the demonstration cell.\n"
   ]
  }
 ],
 "metadata": {
  "kernelspec": {
   "display_name": "Python 3",
   "language": "python",
   "name": "python3"
  },
  "language_info": {
   "codemirror_mode": {
    "name": "ipython",
    "version": 3
   },
   "file_extension": ".py",
   "mimetype": "text/x-python",
   "name": "python",
   "nbconvert_exporter": "python",
   "pygments_lexer": "ipython3",
   "version": "3.6.8"
  }
 },
 "nbformat": 4,
 "nbformat_minor": 2
}
